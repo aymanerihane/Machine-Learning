{
 "cells": [
  {
   "cell_type": "markdown",
   "metadata": {},
   "source": [
    "## IMPORTING LABRARIES"
   ]
  },
  {
   "cell_type": "code",
   "execution_count": 147,
   "metadata": {},
   "outputs": [],
   "source": [
    "import numpy as np\n",
    "import pandas as pd\n",
    "import seaborn as sns\n",
    "from sklearn.model_selection import train_test_split\n",
    "from scipy.integrate import trapezoid\n",
    "import matplotlib.pyplot as plt"
   ]
  },
  {
   "cell_type": "markdown",
   "metadata": {},
   "source": [
    "## Loading and Preprocessing Data"
   ]
  },
  {
   "cell_type": "code",
   "execution_count": 148,
   "metadata": {},
   "outputs": [],
   "source": [
    "# Charger les données Titanic de Seaborn\n",
    "data = sns.load_dataset('titanic')\n",
    "data = data[['survived', 'pclass', 'sex', 'age', 'sibsp', 'parch', 'embarked']].dropna()\n"
   ]
  },
  {
   "cell_type": "markdown",
   "metadata": {},
   "source": [
    "## Cleaning Data"
   ]
  },
  {
   "cell_type": "code",
   "execution_count": 149,
   "metadata": {},
   "outputs": [
    {
     "data": {
      "text/html": [
       "<div>\n",
       "<style scoped>\n",
       "    .dataframe tbody tr th:only-of-type {\n",
       "        vertical-align: middle;\n",
       "    }\n",
       "\n",
       "    .dataframe tbody tr th {\n",
       "        vertical-align: top;\n",
       "    }\n",
       "\n",
       "    .dataframe thead th {\n",
       "        text-align: right;\n",
       "    }\n",
       "</style>\n",
       "<table border=\"1\" class=\"dataframe\">\n",
       "  <thead>\n",
       "    <tr style=\"text-align: right;\">\n",
       "      <th></th>\n",
       "      <th>survived</th>\n",
       "      <th>pclass</th>\n",
       "      <th>sex</th>\n",
       "      <th>age</th>\n",
       "      <th>sibsp</th>\n",
       "      <th>parch</th>\n",
       "      <th>embarked</th>\n",
       "    </tr>\n",
       "  </thead>\n",
       "  <tbody>\n",
       "    <tr>\n",
       "      <th>0</th>\n",
       "      <td>0</td>\n",
       "      <td>3</td>\n",
       "      <td>male</td>\n",
       "      <td>22.0</td>\n",
       "      <td>1</td>\n",
       "      <td>0</td>\n",
       "      <td>S</td>\n",
       "    </tr>\n",
       "    <tr>\n",
       "      <th>1</th>\n",
       "      <td>1</td>\n",
       "      <td>1</td>\n",
       "      <td>female</td>\n",
       "      <td>38.0</td>\n",
       "      <td>1</td>\n",
       "      <td>0</td>\n",
       "      <td>C</td>\n",
       "    </tr>\n",
       "    <tr>\n",
       "      <th>2</th>\n",
       "      <td>1</td>\n",
       "      <td>3</td>\n",
       "      <td>female</td>\n",
       "      <td>26.0</td>\n",
       "      <td>0</td>\n",
       "      <td>0</td>\n",
       "      <td>S</td>\n",
       "    </tr>\n",
       "    <tr>\n",
       "      <th>3</th>\n",
       "      <td>1</td>\n",
       "      <td>1</td>\n",
       "      <td>female</td>\n",
       "      <td>35.0</td>\n",
       "      <td>1</td>\n",
       "      <td>0</td>\n",
       "      <td>S</td>\n",
       "    </tr>\n",
       "    <tr>\n",
       "      <th>4</th>\n",
       "      <td>0</td>\n",
       "      <td>3</td>\n",
       "      <td>male</td>\n",
       "      <td>35.0</td>\n",
       "      <td>0</td>\n",
       "      <td>0</td>\n",
       "      <td>S</td>\n",
       "    </tr>\n",
       "    <tr>\n",
       "      <th>...</th>\n",
       "      <td>...</td>\n",
       "      <td>...</td>\n",
       "      <td>...</td>\n",
       "      <td>...</td>\n",
       "      <td>...</td>\n",
       "      <td>...</td>\n",
       "      <td>...</td>\n",
       "    </tr>\n",
       "    <tr>\n",
       "      <th>885</th>\n",
       "      <td>0</td>\n",
       "      <td>3</td>\n",
       "      <td>female</td>\n",
       "      <td>39.0</td>\n",
       "      <td>0</td>\n",
       "      <td>5</td>\n",
       "      <td>Q</td>\n",
       "    </tr>\n",
       "    <tr>\n",
       "      <th>886</th>\n",
       "      <td>0</td>\n",
       "      <td>2</td>\n",
       "      <td>male</td>\n",
       "      <td>27.0</td>\n",
       "      <td>0</td>\n",
       "      <td>0</td>\n",
       "      <td>S</td>\n",
       "    </tr>\n",
       "    <tr>\n",
       "      <th>887</th>\n",
       "      <td>1</td>\n",
       "      <td>1</td>\n",
       "      <td>female</td>\n",
       "      <td>19.0</td>\n",
       "      <td>0</td>\n",
       "      <td>0</td>\n",
       "      <td>S</td>\n",
       "    </tr>\n",
       "    <tr>\n",
       "      <th>889</th>\n",
       "      <td>1</td>\n",
       "      <td>1</td>\n",
       "      <td>male</td>\n",
       "      <td>26.0</td>\n",
       "      <td>0</td>\n",
       "      <td>0</td>\n",
       "      <td>C</td>\n",
       "    </tr>\n",
       "    <tr>\n",
       "      <th>890</th>\n",
       "      <td>0</td>\n",
       "      <td>3</td>\n",
       "      <td>male</td>\n",
       "      <td>32.0</td>\n",
       "      <td>0</td>\n",
       "      <td>0</td>\n",
       "      <td>Q</td>\n",
       "    </tr>\n",
       "  </tbody>\n",
       "</table>\n",
       "<p>712 rows × 7 columns</p>\n",
       "</div>"
      ],
      "text/plain": [
       "     survived  pclass     sex   age  sibsp  parch embarked\n",
       "0           0       3    male  22.0      1      0        S\n",
       "1           1       1  female  38.0      1      0        C\n",
       "2           1       3  female  26.0      0      0        S\n",
       "3           1       1  female  35.0      1      0        S\n",
       "4           0       3    male  35.0      0      0        S\n",
       "..        ...     ...     ...   ...    ...    ...      ...\n",
       "885         0       3  female  39.0      0      5        Q\n",
       "886         0       2    male  27.0      0      0        S\n",
       "887         1       1  female  19.0      0      0        S\n",
       "889         1       1    male  26.0      0      0        C\n",
       "890         0       3    male  32.0      0      0        Q\n",
       "\n",
       "[712 rows x 7 columns]"
      ]
     },
     "execution_count": 149,
     "metadata": {},
     "output_type": "execute_result"
    }
   ],
   "source": [
    "data"
   ]
  },
  {
   "cell_type": "code",
   "execution_count": 150,
   "metadata": {},
   "outputs": [],
   "source": [
    "# Fill numeric columns with median values\n",
    "data = data.fillna(data.median(numeric_only=True))\n",
    "\n",
    "data = data.drop_duplicates() # Remove rows with duplicated values\n"
   ]
  },
  {
   "cell_type": "code",
   "execution_count": 151,
   "metadata": {},
   "outputs": [
    {
     "data": {
      "text/plain": [
       "sex\n",
       "male      306\n",
       "female    234\n",
       "Name: count, dtype: int64"
      ]
     },
     "execution_count": 151,
     "metadata": {},
     "output_type": "execute_result"
    }
   ],
   "source": [
    "# Replace the 0 and 1 values in the 'sex' column with 'Male' and 'Female'\n",
    "data['sex'].replace({0: 'male', 1: 'female'}).value_counts()\n",
    "data['sex'].value_counts()"
   ]
  },
  {
   "cell_type": "code",
   "execution_count": 152,
   "metadata": {},
   "outputs": [
    {
     "data": {
      "image/png": "[encoded data removed]",
      "text/plain": [
       "<Figure size 800x600 with 1 Axes>"
      ]
     },
     "metadata": {},
     "output_type": "display_data"
    }
   ],
   "source": [
    "# Create a countplot for 'sex' and 'survived'\n",
    "plt.figure(figsize=(8, 6))\n",
    "sns.countplot(x='sex', hue='survived', data=data, palette='pastel')\n",
    "\n",
    "\n",
    "# Set labels and title\n",
    "plt.title('Survival Count by Sex')\n",
    "plt.xlabel('Sex')\n",
    "plt.xticks()\n",
    "plt.ylabel('Count')\n",
    "plt.legend(title=\"survived\",labels=[\"Survived\",\"!Survived\"])\n",
    "\n",
    "# Show the plot\n",
    "plt.show()"
   ]
  },
  {
   "cell_type": "code",
   "execution_count": 153,
   "metadata": {},
   "outputs": [
    {
     "data": {
      "text/plain": [
       "embarked\n",
       "S    397\n",
       "C    116\n",
       "Q     27\n",
       "Name: count, dtype: int64"
      ]
     },
     "execution_count": 153,
     "metadata": {},
     "output_type": "execute_result"
    }
   ],
   "source": [
    "data['embarked'].replace({0:'C', 1:'Q', 2:'S'}).value_counts()\n",
    "data['embarked'].value_counts()"
   ]
  },
  {
   "cell_type": "code",
   "execution_count": 154,
   "metadata": {},
   "outputs": [
    {
     "data": {
      "image/png": "[encoded data removed]",
      "text/plain": [
       "<Figure size 800x600 with 1 Axes>"
      ]
     },
     "metadata": {},
     "output_type": "display_data"
    }
   ],
   "source": [
    "# Create a countplot for 'sex' and 'survived'\n",
    "plt.figure(figsize=(8, 6))\n",
    "sns.countplot(x='embarked', hue='survived', data=data, palette='pastel')\n",
    "\n",
    "\n",
    "# Set labels and title\n",
    "plt.title('Survival Count by embarked')\n",
    "plt.xlabel('embarked')\n",
    "plt.xticks()\n",
    "plt.ylabel('Count')\n",
    "plt.legend(title=\"survived\",labels=[\"Survived\",\"!Survived\"])\n",
    "\n",
    "# Show the plot\n",
    "plt.show()"
   ]
  },
  {
   "cell_type": "markdown",
   "metadata": {},
   "source": [
    "## Encoding Categorical Variables"
   ]
  },
  {
   "cell_type": "code",
   "execution_count": 155,
   "metadata": {},
   "outputs": [
    {
     "name": "stderr",
     "output_type": "stream",
     "text": [
      "C:\\Users\\pc\\AppData\\Local\\Temp\\ipykernel_24348\\3503080433.py:2: FutureWarning: Downcasting behavior in `replace` is deprecated and will be removed in a future version. To retain the old behavior, explicitly call `result.infer_objects(copy=False)`. To opt-in to the future behavior, set `pd.set_option('future.no_silent_downcasting', True)`\n",
      "  data['sex'] = data['sex'].replace({'male': 0, 'female': 1})\n",
      "C:\\Users\\pc\\AppData\\Local\\Temp\\ipykernel_24348\\3503080433.py:3: FutureWarning: Downcasting behavior in `replace` is deprecated and will be removed in a future version. To retain the old behavior, explicitly call `result.infer_objects(copy=False)`. To opt-in to the future behavior, set `pd.set_option('future.no_silent_downcasting', True)`\n",
      "  data['embarked'] = data['embarked'].replace({'C': 0, 'Q': 1, 'S': 2})\n"
     ]
    }
   ],
   "source": [
    "# Encoder les variables catégoriques\n",
    "data['sex'] = data['sex'].replace({'male': 0, 'female': 1})\n",
    "data['embarked'] = data['embarked'].replace({'C': 0, 'Q': 1, 'S': 2})\n",
    "\n"
   ]
  },
  {
   "cell_type": "markdown",
   "metadata": {},
   "source": [
    "## Splitting the Data"
   ]
  },
  {
   "cell_type": "code",
   "execution_count": 156,
   "metadata": {},
   "outputs": [
    {
     "name": "stdout",
     "output_type": "stream",
     "text": [
      "Training set size: 432 samples\n",
      "Test set size: 108 samples\n"
     ]
    }
   ],
   "source": [
    "# Séparation des caractéristiques (X) et de la cible (y)\n",
    "X = data.drop(columns='survived')  # Features\n",
    "y = data['survived']  # Target\n",
    "\n",
    "# Split the data into training and testing sets\n",
    "X_train, X_test, y_train, y_test = train_test_split(X, y, test_size=0.2, random_state=42)\n",
    "\n",
    "# Afficher les dimensions des jeux de données\n",
    "print(f\"Training set size: {X_train.shape[0]} samples\")\n",
    "print(f\"Test set size: {X_test.shape[0]} samples\")\n",
    "\n"
   ]
  },
  {
   "cell_type": "markdown",
   "metadata": {},
   "source": [
    "## Chi-Square Test Functions"
   ]
  },
  {
   "cell_type": "code",
   "execution_count": 157,
   "metadata": {},
   "outputs": [],
   "source": [
    "# Approximation de la fonction Gamma pour les calculs\n",
    "def gamma(n):\n",
    "    # Stirling's approximation for large n\n",
    "    if n > 1:\n",
    "        return np.sqrt(2 * np.pi * n) * (n / np.e) ** n\n",
    "    else:\n",
    "        return 1  # Gamma(1) = 1\n"
   ]
  },
  {
   "cell_type": "markdown",
   "metadata": {},
   "source": [
    "## the probability density function (PDF) for the Chi-squared distribution"
   ]
  },
  {
   "cell_type": "code",
   "execution_count": 158,
   "metadata": {},
   "outputs": [],
   "source": [
    "\n",
    "def chi_square_pdf(chi2_stat, dof):\n",
    "    if chi2_stat <= 0 or dof <= 0:\n",
    "        return 0\n",
    "    try:\n",
    "        # Ensure stability by checking if the power calculation or exponential term goes out of bounds\n",
    "        if chi2_stat > 1e10:  # Large chi-square statistic\n",
    "            return 0\n",
    "        term = (chi2_stat ** (dof / 2 - 1)) * np.exp(-chi2_stat / 2) / (2 ** (dof / 2) * gamma(dof / 2))\n",
    "        if np.isnan(term) or np.isinf(term):\n",
    "            return 0\n",
    "        return term\n",
    "    except Exception as e:\n",
    "        print(f\"Error in chi-square PDF calculation: {e}\")\n",
    "        return 0\n"
   ]
  },
  {
   "cell_type": "markdown",
   "metadata": {},
   "source": [
    "## calculates the Cumulative Distribution Function (CDF) of the Chi-squared distribution"
   ]
  },
  {
   "cell_type": "code",
   "execution_count": 159,
   "metadata": {},
   "outputs": [],
   "source": [
    "def chi_square_cdf(chi2_stat, dof):\n",
    "    # Calculate CDF by numerical integration using the trapezoid rule\n",
    "    x_vals = np.linspace(0, chi2_stat, 1000)  # Use a fine range of values for numerical integration\n",
    "    y_vals = np.array([chi_square_pdf(x, dof) for x in x_vals])\n",
    "    \n",
    "    # Use trapezoid method from scipy.integrate for more stable integration\n",
    "    cdf_value = trapezoid(y_vals, x_vals)\n",
    "    return cdf_value"
   ]
  },
  {
   "cell_type": "code",
   "execution_count": 160,
   "metadata": {},
   "outputs": [],
   "source": [
    "# Approximation de la fonction de distribution cumulative (CDF) du khi-deux pour calculer la p-value\n",
    "def chi_square_p_value(chi2_stat, dof):\n",
    "    return 1 - chi_square_cdf(chi2_stat, dof)\n"
   ]
  },
  {
   "cell_type": "code",
   "execution_count": 161,
   "metadata": {},
   "outputs": [],
   "source": [
    "# Fonction pour calculer la statistique du khi-deux\n",
    "def chi_square_test(observed):\n",
    "    # Calculer les fréquences attendues\n",
    "    expected = np.outer(observed.sum(axis=1), observed.sum(axis=0)) / observed.sum()\n",
    "    \n",
    "    # Calculer la statistique du khi-deux\n",
    "    chi2_stat = np.sum((observed - expected) ** 2 / expected)\n",
    "    \n",
    "    # Calculer les degrés de liberté\n",
    "    dof = (observed.shape[0] - 1) * (observed.shape[1] - 1)\n",
    "    \n",
    "    # Calculer la p-value à partir de la statistique du khi-deux et des degrés de liberté\n",
    "    p_value = chi_square_p_value(chi2_stat, dof)\n",
    "    \n",
    "    return chi2_stat, p_value\n"
   ]
  },
  {
   "cell_type": "markdown",
   "metadata": {},
   "source": [
    "## Feature Evaluation"
   ]
  },
  {
   "cell_type": "code",
   "execution_count": 162,
   "metadata": {},
   "outputs": [],
   "source": [
    "# Fonction pour tester chaque variable\n",
    "def evaluate_feature(data, feature, target='survived'):\n",
    "    observed = pd.crosstab(data[feature], data[target])\n",
    "    chi2_stat, p_value = chi_square_test(observed.values)\n",
    "    return chi2_stat, p_value\n"
   ]
  },
  {
   "cell_type": "markdown",
   "metadata": {},
   "source": [
    "## Node Class for CHAID Tree"
   ]
  },
  {
   "cell_type": "code",
   "execution_count": 163,
   "metadata": {},
   "outputs": [],
   "source": [
    "# Classe de nœud de l’arbre CHAID\n",
    "class Node:\n",
    "    def __init__(self, feature=None, category=None, children=None, value=None):\n",
    "        self.feature = feature\n",
    "        self.category = category\n",
    "        self.children = children or {}\n",
    "        self.value = value\n"
   ]
  },
  {
   "cell_type": "markdown",
   "metadata": {},
   "source": [
    "## CHAID Tree Construction"
   ]
  },
  {
   "cell_type": "code",
   "execution_count": 164,
   "metadata": {},
   "outputs": [],
   "source": [
    "# Fonction pour construire l'arbre CHAID\n",
    "def build_chaid_tree(data, target='survived', depth=0, max_depth=3):\n",
    "    # Stop criteria: single class or max depth reached\n",
    "    if len(np.unique(data[target])) == 1 or depth == max_depth:\n",
    "        value = data[target].mode().iloc[0]\n",
    "        return Node(value=value)\n",
    "        # Select the best feature for split\n",
    "    best_feature = None\n",
    "    best_chi2 = 0 # we don't need the chi2 value for now\n",
    "    best_p_value = 1  # Initialize with a high p-value\n",
    "    \n",
    "    for feature in data.columns.drop(target):\n",
    "        chi2_stat, p_value = evaluate_feature(data, feature, target)\n",
    "        if p_value < best_p_value:\n",
    "            best_p_value = p_value\n",
    "            best_chi2 = chi2_stat\n",
    "            best_feature = feature\n",
    "    if best_feature is None:\n",
    "        return Node(value=data[target].mode().iloc[0])\n",
    "    \n",
    "    node = Node(feature=best_feature)\n",
    "    for category in data[best_feature].unique():\n",
    "        subset = data[data[best_feature] == category]\n",
    "        node.children[category] = build_chaid_tree(subset, target, depth + 1, max_depth)\n",
    "    \n",
    "    return node\n",
    "\n"
   ]
  },
  {
   "cell_type": "markdown",
   "metadata": {},
   "source": [
    "## Prediction Using the CHAID Tree"
   ]
  },
  {
   "cell_type": "code",
   "execution_count": 165,
   "metadata": {},
   "outputs": [],
   "source": [
    "# Fonction pour prédire avec l'arbre CHAID\n",
    "def predict(node, instance):\n",
    "    if node.value is not None:\n",
    "        return node.value\n",
    "    feature_value = instance[node.feature]\n",
    "    if feature_value in node.children:\n",
    "        return predict(node.children[feature_value], instance)\n",
    "    return None\n",
    "\n",
    "def predict_tree(tree, data):\n",
    "    return data.apply(lambda row: predict(tree, row), axis=1)\n"
   ]
  },
  {
   "cell_type": "markdown",
   "metadata": {},
   "source": [
    "## Final Tree Visualization and Prediction Evaluation"
   ]
  },
  {
   "cell_type": "code",
   "execution_count": 166,
   "metadata": {},
   "outputs": [],
   "source": [
    "from graphviz import Digraph\n",
    "\n",
    "def visualize_chaid_tree(node, graph=None, parent_name=None, category=None):\n",
    "    # Initialize graph on the first call\n",
    "    if graph is None:\n",
    "        graph = Digraph(format='pdf')\n",
    "        graph.attr('node', shape='box')  # Set node shape to boxes for clarity\n",
    "\n",
    "    # Define the current node's unique name\n",
    "    node_name = f\"{id(node)}\"\n",
    "\n",
    "    # Create label for the node based on its feature, category, or value\n",
    "    if node.value is not None:\n",
    "        label = f\"Value: {'Survived' if node.value == 1 else 'Not Survived'}\"\n",
    "    elif node.category is not None:\n",
    "        label = f\"{node.feature} = {node.category}\"\n",
    "    else:\n",
    "        label = f\"Feature: {node.feature}\"\n",
    "\n",
    "    # Add the current node to the graph with the defined label\n",
    "    graph.node(node_name, label)\n",
    "\n",
    "    # Connect parent node to this node if a parent exists\n",
    "    if parent_name is not None:\n",
    "        edge_label = f\"{category}\" if category is not None else \"\"\n",
    "        graph.edge(parent_name, node_name, label=edge_label)\n",
    "\n",
    "    # Recursively visualize each child node\n",
    "    for cat, child in node.children.items():\n",
    "        visualize_chaid_tree(child, graph, node_name, category=cat)\n",
    "\n",
    "    return graph\n",
    "\n"
   ]
  },
  {
   "cell_type": "code",
   "execution_count": 167,
   "metadata": {},
   "outputs": [
    {
     "name": "stdout",
     "output_type": "stream",
     "text": [
      "Accuracy: 79.63%\n"
     ]
    }
   ],
   "source": [
    "chaid_tree = build_chaid_tree(pd.concat([X_train,y_train],axis=1), target='survived', max_depth=3)\n",
    "\n",
    "# Visualize the CHAID tree\n",
    "tree_graph = visualize_chaid_tree(chaid_tree)\n",
    "tree_graph.render(\"chaid_tree\", view=True)  # Save and view the tree\n",
    "\n",
    "\n",
    "# Evaluation des performances\n",
    "predictions = predict_tree(chaid_tree, X_test)\n",
    "accuracy = np.mean(predictions == y_test)\n",
    "print(f\"Accuracy: {accuracy*100:.2f}%\")\n"
   ]
  },
  {
   "cell_type": "code",
   "execution_count": 168,
   "metadata": {},
   "outputs": [
    {
     "data": {
      "image/png": "[encoded data removed]",
      "text/plain": [
       "<Figure size 640x480 with 2 Axes>"
      ]
     },
     "metadata": {},
     "output_type": "display_data"
    }
   ],
   "source": [
    "from sklearn.metrics import confusion_matrix, ConfusionMatrixDisplay\n",
    "\n",
    "# Create confusion matrix\n",
    "conf_matrix = confusion_matrix(y_test, predictions)\n",
    "\n",
    "# Display the confusion matrix\n",
    "unique_values = y_test.unique()\n",
    "disp = ConfusionMatrixDisplay(confusion_matrix=conf_matrix, display_labels=unique_values)\n",
    "disp.plot(cmap=plt.cm.Blues)\n",
    "plt.title('Confusion Matrix for Iris Dataset')\n",
    "plt.show()"
   ]
  },
  {
   "cell_type": "code",
   "execution_count": 169,
   "metadata": {},
   "outputs": [
    {
     "name": "stdout",
     "output_type": "stream",
     "text": [
      "Prediction for new instance: Survived\n"
     ]
    }
   ],
   "source": [
    "# Nouveau cas pour la prédiction\n",
    "new_instance = pd.DataFrame({\n",
    "    'age': [38],  # Numeric value\n",
    "    'sex': ['female'],  # Categorical feature, to be encoded\n",
    "    'pclass': [1],  # Categorical feature, using 3 as an example\n",
    "    'sibsp': [0],  # Need to include this column as well\n",
    "    'parch': [0],  # Include 'parch' column, even if it's not used in the decision tree\n",
    "    'embarked': ['S'],  # Categorical feature, to be encoded\n",
    "})\n",
    "\n",
    "# Preprocess the new instance similarly to the training data\n",
    "new_instance['sex'] = new_instance['sex'].map({'male': 0, 'female': 1})  # Encoding gender\n",
    "new_instance['embarked'] = new_instance['embarked'].map({'C': 0, 'Q': 1, 'S': 2})  # Encoding embarked\n",
    "\n",
    "# Prediction function (assuming `predict_tree` function is defined)\n",
    "y_pred = predict_tree(chaid_tree, new_instance)\n",
    "\n",
    "# Map 0 to 'Not Survived' and 1 to 'Survived'\n",
    "y_pred_label = y_pred.map({0: 'Not Survived', 1: 'Survived'})\n",
    "\n",
    "# Display the result\n",
    "print(\"Prediction for new instance:\", y_pred_label.iloc[0])\n"
   ]
  }
 ],
 "metadata": {
  "kernelspec": {
   "display_name": "Python 3",
   "language": "python",
   "name": "python3"
  },
  "language_info": {
   "codemirror_mode": {
    "name": "ipython",
    "version": 3
   },
   "file_extension": ".py",
   "mimetype": "text/x-python",
   "name": "python",
   "nbconvert_exporter": "python",
   "pygments_lexer": "ipython3",
   "version": "3.12.2"
  }
 },
 "nbformat": 4,
 "nbformat_minor": 2
}
